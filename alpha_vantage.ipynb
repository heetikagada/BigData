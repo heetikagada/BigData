{
 "cells": [
  {
   "cell_type": "code",
   "execution_count": 1,
   "metadata": {},
   "outputs": [],
   "source": [
    "import pandas as pd\n",
    "from alpha_vantage.timeseries import TimeSeries\n",
    "import time\n",
    "\n",
    "import numpy as np \n",
    "from sklearn.linear_model import LinearRegression\n",
    "from sklearn.svm import SVR\n",
    "from sklearn.model_selection import train_test_split\n",
    "\n"
   ]
  },
  {
   "cell_type": "code",
   "execution_count": 2,
   "metadata": {},
   "outputs": [],
   "source": [
    "api_key = 'B6MOR128S6URKDZ0'"
   ]
  },
  {
   "cell_type": "code",
   "execution_count": 3,
   "metadata": {},
   "outputs": [
    {
     "name": "stdout",
     "output_type": "stream",
     "text": [
      "                      1. open   2. high    3. low  4. close  5. volume\n",
      "date                                                                  \n",
      "2019-12-09 16:00:00  151.4000  151.4000  151.2300  151.3600   345096.0\n",
      "2019-12-09 15:59:00  151.3550  151.4000  151.3550  151.4000   104520.0\n",
      "2019-12-09 15:58:00  151.3000  151.3500  151.2700  151.3500    83872.0\n",
      "2019-12-09 15:57:00  151.3200  151.3300  151.2800  151.2905    58178.0\n",
      "2019-12-09 15:56:00  151.3900  151.3900  151.2900  151.3100    93941.0\n",
      "...                       ...       ...       ...       ...        ...\n",
      "2019-12-03 09:35:00  147.4400  147.6182  147.3800  147.6182   123548.0\n",
      "2019-12-03 09:34:00  147.1299  147.5703  147.0265  147.4353   131089.0\n",
      "2019-12-03 09:33:00  147.0200  147.3300  147.0200  147.1100   197631.0\n",
      "2019-12-03 09:32:00  147.3729  147.4860  146.7654  147.0129   407257.0\n",
      "2019-12-03 09:31:00  147.1200  147.6300  147.0600  147.3800  1219138.0\n",
      "\n",
      "[1941 rows x 5 columns]\n"
     ]
    }
   ],
   "source": [
    "timeseries = TimeSeries(key=api_key, output_format = 'pandas')\n",
    "\n",
    "data, meta_data = timeseries.get_intraday(symbol='MSFT', interval = '1min', outputsize = 'full')\n",
    "print(data)"
   ]
  },
  {
   "cell_type": "code",
   "execution_count": 4,
   "metadata": {},
   "outputs": [],
   "source": [
    "#i = 1\n",
    "# while i==1:\n",
    "#     data, meta_data = timeseries.get_intraday(symbol='MSFT', interval = '1min', outputsize = 'full')\n",
    "#     data.to_excel(\"output.xlsx\")\n",
    "#     time.sleep(60)\n",
    "    "
   ]
  },
  {
   "cell_type": "code",
   "execution_count": 5,
   "metadata": {},
   "outputs": [],
   "source": [
    "closing = data['4. close']"
   ]
  },
  {
   "cell_type": "code",
   "execution_count": 6,
   "metadata": {},
   "outputs": [
    {
     "name": "stdout",
     "output_type": "stream",
     "text": [
      "date\n",
      "2019-12-09 16:00:00         NaN\n",
      "2019-12-09 15:59:00    0.000264\n",
      "2019-12-09 15:58:00   -0.000330\n",
      "2019-12-09 15:57:00   -0.000393\n",
      "2019-12-09 15:56:00    0.000129\n",
      "                         ...   \n",
      "2019-12-03 09:35:00   -0.000056\n",
      "2019-12-03 09:34:00   -0.001239\n",
      "2019-12-03 09:33:00   -0.002206\n",
      "2019-12-03 09:32:00   -0.000660\n",
      "2019-12-03 09:31:00    0.002497\n",
      "Name: 4. close, Length: 1941, dtype: float64\n"
     ]
    }
   ],
   "source": [
    "percentage_change = closing.pct_change()\n",
    "print(percentage_change)"
   ]
  },
  {
   "cell_type": "code",
   "execution_count": 7,
   "metadata": {},
   "outputs": [],
   "source": [
    "last_one = percentage_change[-1]"
   ]
  },
  {
   "cell_type": "code",
   "execution_count": 8,
   "metadata": {},
   "outputs": [
    {
     "name": "stdout",
     "output_type": "stream",
     "text": [
      "0.00249705978182857\n",
      "Change seen\n"
     ]
    }
   ],
   "source": [
    "if abs(last_one) > 0.0004:\n",
    "    print(last_one)\n",
    "    print(\"Change seen\")\n",
    "else: \n",
    "    print(\"No change\")\n",
    "    "
   ]
  },
  {
   "cell_type": "code",
   "execution_count": 9,
   "metadata": {},
   "outputs": [
    {
     "name": "stdout",
     "output_type": "stream",
     "text": [
      "                      1. open   2. high    3. low  4. close  5. volume  \\\n",
      "date                                                                     \n",
      "2019-12-03 09:35:00  147.4400  147.6182  147.3800  147.6182   123548.0   \n",
      "2019-12-03 09:34:00  147.1299  147.5703  147.0265  147.4353   131089.0   \n",
      "2019-12-03 09:33:00  147.0200  147.3300  147.0200  147.1100   197631.0   \n",
      "2019-12-03 09:32:00  147.3729  147.4860  146.7654  147.0129   407257.0   \n",
      "2019-12-03 09:31:00  147.1200  147.6300  147.0600  147.3800  1219138.0   \n",
      "\n",
      "                     Prediction  \n",
      "date                             \n",
      "2019-12-03 09:35:00         NaN  \n",
      "2019-12-03 09:34:00         NaN  \n",
      "2019-12-03 09:33:00         NaN  \n",
      "2019-12-03 09:32:00         NaN  \n",
      "2019-12-03 09:31:00         NaN  \n"
     ]
    }
   ],
   "source": [
    "f_out = 30 \n",
    "data['Prediction'] = data[['4. close']].shift(-f_out)\n",
    "print(data.tail())\n"
   ]
  },
  {
   "cell_type": "code",
   "execution_count": 10,
   "metadata": {},
   "outputs": [
    {
     "name": "stdout",
     "output_type": "stream",
     "text": [
      "[[1.514000e+02 1.514000e+02 1.512300e+02 1.513600e+02 3.450960e+05]\n",
      " [1.513550e+02 1.514000e+02 1.513550e+02 1.514000e+02 1.045200e+05]\n",
      " [1.513000e+02 1.513500e+02 1.512700e+02 1.513500e+02 8.387200e+04]\n",
      " ...\n",
      " [1.478300e+02 1.479500e+02 1.478000e+02 1.478600e+02 5.313900e+04]\n",
      " [1.479800e+02 1.479900e+02 1.478200e+02 1.478400e+02 5.953700e+04]\n",
      " [1.478000e+02 1.479800e+02 1.477568e+02 1.479786e+02 9.022100e+04]]\n"
     ]
    }
   ],
   "source": [
    "X = np.array(data.drop(['Prediction'],1))\n",
    "X = X[:-f_out]\n",
    "print(X)"
   ]
  },
  {
   "cell_type": "code",
   "execution_count": 11,
   "metadata": {},
   "outputs": [
    {
     "name": "stdout",
     "output_type": "stream",
     "text": [
      "[151.59   151.585  151.6042 ... 147.11   147.0129 147.38  ]\n"
     ]
    }
   ],
   "source": [
    "\n",
    "y = np.array(data['Prediction'])\n",
    "# To get all of the y values except the last n rows\n",
    "y = y[:-f_out]\n",
    "print(y)"
   ]
  },
  {
   "cell_type": "code",
   "execution_count": 12,
   "metadata": {},
   "outputs": [],
   "source": [
    "x_train, x_test, y_train, y_test = train_test_split(X, y, test_size=0.2)"
   ]
  },
  {
   "cell_type": "code",
   "execution_count": 13,
   "metadata": {},
   "outputs": [
    {
     "data": {
      "text/plain": [
       "SVR(C=1000.0, cache_size=200, coef0=0.0, degree=3, epsilon=0.1, gamma=0.1,\n",
       "    kernel='rbf', max_iter=-1, shrinking=True, tol=0.001, verbose=False)"
      ]
     },
     "execution_count": 13,
     "metadata": {},
     "output_type": "execute_result"
    }
   ],
   "source": [
    "svrrbf = SVR(kernel='rbf', C=1e3, gamma=0.1)\n",
    "svrrbf.fit(x_train, y_train)"
   ]
  },
  {
   "cell_type": "code",
   "execution_count": 14,
   "metadata": {},
   "outputs": [
    {
     "name": "stdout",
     "output_type": "stream",
     "text": [
      "svm confidence:  0.04406536777476833\n"
     ]
    }
   ],
   "source": [
    "svm_confidence = svrrbf.score(x_test, y_test)\n",
    "print(\"svm confidence: \", svm_confidence)"
   ]
  },
  {
   "cell_type": "code",
   "execution_count": 15,
   "metadata": {},
   "outputs": [
    {
     "data": {
      "text/plain": [
       "LinearRegression(copy_X=True, fit_intercept=True, n_jobs=None, normalize=False)"
      ]
     },
     "execution_count": 15,
     "metadata": {},
     "output_type": "execute_result"
    }
   ],
   "source": [
    "lr = LinearRegression()\n",
    "lr.fit(x_train, y_train)"
   ]
  },
  {
   "cell_type": "code",
   "execution_count": 16,
   "metadata": {},
   "outputs": [
    {
     "name": "stdout",
     "output_type": "stream",
     "text": [
      "lr confidence:  0.9683692491723679\n"
     ]
    }
   ],
   "source": [
    "lr_confidence = lr.score(x_test, y_test)\n",
    "print(\"lr confidence: \", lr_confidence)"
   ]
  },
  {
   "cell_type": "code",
   "execution_count": 17,
   "metadata": {},
   "outputs": [
    {
     "name": "stdout",
     "output_type": "stream",
     "text": [
      "[[1.477300e+02 1.478300e+02 1.476300e+02 1.478100e+02 7.795800e+04]\n",
      " [1.475900e+02 1.476250e+02 1.475900e+02 1.476250e+02 7.397500e+04]\n",
      " [1.475900e+02 1.476500e+02 1.475800e+02 1.476500e+02 1.013730e+05]\n",
      " [1.473400e+02 1.476079e+02 1.473400e+02 1.476079e+02 6.463400e+04]\n",
      " [1.475100e+02 1.475100e+02 1.474100e+02 1.474100e+02 5.732200e+04]\n",
      " [1.474400e+02 1.475890e+02 1.474400e+02 1.475890e+02 5.053500e+04]\n",
      " [1.472600e+02 1.474300e+02 1.472600e+02 1.474300e+02 5.762700e+04]\n",
      " [1.473200e+02 1.473200e+02 1.473200e+02 1.473200e+02 6.643600e+04]\n",
      " [1.473153e+02 1.473600e+02 1.473153e+02 1.473600e+02 8.907300e+04]\n",
      " [1.472200e+02 1.473300e+02 1.472200e+02 1.473300e+02 9.343300e+04]\n",
      " [1.473200e+02 1.473200e+02 1.472600e+02 1.472600e+02 5.601600e+04]\n",
      " [1.473950e+02 1.473950e+02 1.472500e+02 1.472500e+02 1.141741e+06]\n",
      " [1.477055e+02 1.477055e+02 1.475600e+02 1.475600e+02 1.348550e+05]\n",
      " [1.474900e+02 1.477084e+02 1.474900e+02 1.477084e+02 6.210800e+04]\n",
      " [1.474900e+02 1.474900e+02 1.474500e+02 1.474500e+02 9.265600e+04]\n",
      " [1.475400e+02 1.476749e+02 1.475400e+02 1.475700e+02 9.587200e+04]\n",
      " [1.474600e+02 1.475900e+02 1.474600e+02 1.475900e+02 1.169750e+05]\n",
      " [1.472400e+02 1.474173e+02 1.472400e+02 1.474173e+02 1.137090e+05]\n",
      " [1.472800e+02 1.472800e+02 1.472500e+02 1.472500e+02 8.937600e+04]\n",
      " [1.473900e+02 1.473900e+02 1.472800e+02 1.472800e+02 9.678200e+04]\n",
      " [1.474900e+02 1.474900e+02 1.473900e+02 1.473900e+02 9.561200e+04]\n",
      " [1.476200e+02 1.476200e+02 1.475000e+02 1.475000e+02 1.052900e+05]\n",
      " [1.478100e+02 1.478100e+02 1.477599e+02 1.477633e+02 1.018330e+05]\n",
      " [1.476400e+02 1.478200e+02 1.476400e+02 1.478200e+02 1.192220e+05]\n",
      " [1.476318e+02 1.476318e+02 1.476265e+02 1.476265e+02 1.446300e+05]\n",
      " [1.474400e+02 1.476182e+02 1.473800e+02 1.476182e+02 1.235480e+05]\n",
      " [1.471299e+02 1.475703e+02 1.470265e+02 1.474353e+02 1.310890e+05]\n",
      " [1.470200e+02 1.473300e+02 1.470200e+02 1.471100e+02 1.976310e+05]\n",
      " [1.473729e+02 1.474860e+02 1.467654e+02 1.470129e+02 4.072570e+05]\n",
      " [1.471200e+02 1.476300e+02 1.470600e+02 1.473800e+02 1.219138e+06]]\n"
     ]
    }
   ],
   "source": [
    "x_forecast = np.array(data.drop(['Prediction'],1))[-f_out:]\n",
    "print(x_forecast)"
   ]
  },
  {
   "cell_type": "code",
   "execution_count": 18,
   "metadata": {},
   "outputs": [
    {
     "name": "stdout",
     "output_type": "stream",
     "text": [
      "[147.73974873 147.46754039 147.46254254 147.42330284 147.38778027\n",
      " 147.44294294 147.27045736 147.1771733  147.18003105 147.1331534\n",
      " 147.19560066 145.85089384 147.48574855 147.53587558 147.31653664\n",
      " 147.37398845 147.3598506  147.18277966 147.10924061 147.2162498\n",
      " 147.31738715 147.43675374 147.62969572 147.57934582 147.3878531\n",
      " 147.43216571 147.24772874 146.75692446 147.05034743 145.71474411]\n"
     ]
    }
   ],
   "source": [
    "# Print linear regression model predictions for the next 'n' days\n",
    "lr_prediction = lr.predict(x_forecast)\n",
    "print(lr_prediction)"
   ]
  },
  {
   "cell_type": "code",
   "execution_count": 20,
   "metadata": {},
   "outputs": [
    {
     "name": "stdout",
     "output_type": "stream",
     "text": [
      "[150.18091992 150.18149311 150.18149311 150.18149311 150.18149311\n",
      " 150.18149311 150.18149311 150.18149311 150.18149311 150.18149311\n",
      " 150.18149311 150.18149311 150.18149311 150.18105486 150.18149311\n",
      " 150.18149311 150.18149311 150.18149311 150.18149311 150.18149311\n",
      " 150.18149311 150.18149311 150.18149311 150.18149311 150.18149311\n",
      " 150.18149311 150.18149311 150.18149311 150.18149311 150.18149311]\n"
     ]
    }
   ],
   "source": [
    "# Print support vector regressor model predictions for the next 'n' days\n",
    "svm_prediction = svrrbf.predict(x_forecast)\n",
    "print(svm_prediction)"
   ]
  },
  {
   "cell_type": "code",
   "execution_count": null,
   "metadata": {},
   "outputs": [],
   "source": []
  }
 ],
 "metadata": {
  "kernelspec": {
   "display_name": "Python 3",
   "language": "python",
   "name": "python3"
  },
  "language_info": {
   "codemirror_mode": {
    "name": "ipython",
    "version": 3
   },
   "file_extension": ".py",
   "mimetype": "text/x-python",
   "name": "python",
   "nbconvert_exporter": "python",
   "pygments_lexer": "ipython3",
   "version": "3.6.9"
  }
 },
 "nbformat": 4,
 "nbformat_minor": 2
}
