{
 "cells": [
  {
   "cell_type": "code",
   "execution_count": 6,
   "metadata": {},
   "outputs": [],
   "source": [
    "import pandas as pd\n",
    "from alpha_vantage.timeseries import TimeSeries\n",
    "import time\n",
    "\n"
   ]
  },
  {
   "cell_type": "code",
   "execution_count": 7,
   "metadata": {},
   "outputs": [],
   "source": [
    "\n",
    "api_key = 'B6MOR128S6URKDZ0'\n"
   ]
  },
  {
   "cell_type": "code",
   "execution_count": 8,
   "metadata": {},
   "outputs": [
    {
     "name": "stdout",
     "output_type": "stream",
     "text": [
      "                      1. open   2. high    3. low  4. close  5. volume\n",
      "date                                                                  \n",
      "2019-12-09 16:00:00  151.4000  151.4000  151.2300  151.3600   345096.0\n",
      "2019-12-09 15:59:00  151.3550  151.4000  151.3550  151.4000   104520.0\n",
      "2019-12-09 15:58:00  151.3000  151.3500  151.2700  151.3500    83872.0\n",
      "2019-12-09 15:57:00  151.3200  151.3300  151.2800  151.2905    58178.0\n",
      "2019-12-09 15:56:00  151.3900  151.3900  151.2900  151.3100    93941.0\n",
      "...                       ...       ...       ...       ...        ...\n",
      "2019-12-03 09:35:00  147.6182  147.6182  147.6182  147.6182   123548.0\n",
      "2019-12-03 09:34:00  147.1299  147.5703  147.0265  147.4353   131089.0\n",
      "2019-12-03 09:33:00  147.0200  147.3300  147.0200  147.1100   197631.0\n",
      "2019-12-03 09:32:00  147.3729  147.4860  146.7654  147.0129   407257.0\n",
      "2019-12-03 09:31:00  147.1200  147.6300  147.0600  147.3800  1219138.0\n",
      "\n",
      "[1931 rows x 5 columns]\n"
     ]
    }
   ],
   "source": [
    "ts = TimeSeries(key=api_key, output_format = 'pandas')\n",
    "\n",
    "data, meta_data = ts.get_intraday(symbol='MSFT', interval = '1min', outputsize = 'full')\n",
    "print(data)"
   ]
  },
  {
   "cell_type": "code",
   "execution_count": 10,
   "metadata": {},
   "outputs": [],
   "source": [
    "i = 1\n",
    "# while i==1:\n",
    "#     data, meta_data = ts.get_intraday(symbol='MSFT', interval = '1min', outputsize = 'full')\n",
    "#     data.to_excel(\"output.xlsx\")\n",
    "#     time.sleep(60)\n",
    "    "
   ]
  },
  {
   "cell_type": "code",
   "execution_count": 13,
   "metadata": {},
   "outputs": [],
   "source": [
    "close_data = data['4. close']"
   ]
  },
  {
   "cell_type": "code",
   "execution_count": 14,
   "metadata": {},
   "outputs": [
    {
     "name": "stdout",
     "output_type": "stream",
     "text": [
      "date\n",
      "2019-12-09 16:00:00         NaN\n",
      "2019-12-09 15:59:00    0.000264\n",
      "2019-12-09 15:58:00   -0.000330\n",
      "2019-12-09 15:57:00   -0.000393\n",
      "2019-12-09 15:56:00    0.000129\n",
      "                         ...   \n",
      "2019-12-03 09:35:00   -0.000056\n",
      "2019-12-03 09:34:00   -0.001239\n",
      "2019-12-03 09:33:00   -0.002206\n",
      "2019-12-03 09:32:00   -0.000660\n",
      "2019-12-03 09:31:00    0.002497\n",
      "Name: 4. close, Length: 1931, dtype: float64\n"
     ]
    }
   ],
   "source": [
    "percentage_change = close_data.pct_change()\n",
    "print(percentage_change)"
   ]
  },
  {
   "cell_type": "code",
   "execution_count": 16,
   "metadata": {},
   "outputs": [],
   "source": [
    "last_change = percentage_change[-1]"
   ]
  },
  {
   "cell_type": "code",
   "execution_count": 27,
   "metadata": {},
   "outputs": [
    {
     "name": "stdout",
     "output_type": "stream",
     "text": [
      "0.00249705978182857\n",
      "Change seen\n"
     ]
    }
   ],
   "source": [
    "if abs(last_change) > 0.0004:\n",
    "    print(last_change)\n",
    "    print(\"Change seen\")\n",
    "else: \n",
    "    print(\"No change\")\n",
    "    "
   ]
  },
  {
   "cell_type": "code",
   "execution_count": null,
   "metadata": {},
   "outputs": [],
   "source": []
  }
 ],
 "metadata": {
  "kernelspec": {
   "display_name": "Python 3",
   "language": "python",
   "name": "python3"
  },
  "language_info": {
   "codemirror_mode": {
    "name": "ipython",
    "version": 3
   },
   "file_extension": ".py",
   "mimetype": "text/x-python",
   "name": "python",
   "nbconvert_exporter": "python",
   "pygments_lexer": "ipython3",
   "version": "3.6.9"
  }
 },
 "nbformat": 4,
 "nbformat_minor": 2
}
